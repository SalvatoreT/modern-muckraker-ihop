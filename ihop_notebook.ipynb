{
 "cells": [
  {
   "cell_type": "code",
   "execution_count": 1,
   "metadata": {
    "pycharm": {
     "name": "#%%\n"
    }
   },
   "outputs": [],
   "source": [
    "import json\n",
    "\n",
    "ihops = [json.loads(line) for line in open('ihop_list.jl')]\n",
    "for ihop in ihops:\n",
    "    ihop.update({'location': (float(ihop['latitude']), float(ihop['longitude']))})"
   ]
  },
  {
   "cell_type": "code",
   "execution_count": 2,
   "metadata": {
    "pycharm": {
     "name": "#%%\n"
    }
   },
   "outputs": [],
   "source": [
    "from ipyleaflet import Map, Marker, MarkerCluster\n",
    "from IPython.core.display import display\n",
    "\n",
    "ihop_map = Map(center=(37.8, -96), zoom=4)\n",
    "\n",
    "marker_cluster = MarkerCluster(\n",
    "    markers=list(map(lambda ihop: Marker(\n",
    "        location=ihop['location'],\n",
    "        title=ihop['address'],\n",
    "        draggable=False,\n",
    "    ), ihops))\n",
    ")\n",
    "ihop_map.add_layer(marker_cluster)\n",
    "\n",
    "display(ihop_map)"
   ]
  },
  {
   "cell_type": "code",
   "execution_count": 3,
   "metadata": {},
   "outputs": [
    {
     "data": {
      "text/plain": "Map(center=[37.8, -96], controls=(ZoomControl(options=['position', 'zoom_in_text', 'zoom_in_title', 'zoom_out_…",
      "application/vnd.jupyter.widget-view+json": {
       "version_major": 2,
       "version_minor": 0,
       "model_id": "158c993588f2421b80d8d068bc48cfca"
      }
     },
     "metadata": {},
     "output_type": "display_data"
    }
   ],
   "source": [
    "from ipyleaflet import Map, CircleMarker\n",
    "from IPython.core.display import display\n",
    "\n",
    "ihop_map = Map(center=(37.8, -96), zoom=4)\n",
    "\n",
    "for ihop in ihops:\n",
    "    ihop_map.add_layer(CircleMarker(\n",
    "        location=ihop['location'],\n",
    "        title=ihop['address'],\n",
    "        draggable=False,\n",
    "        radius=1,\n",
    "    ))\n",
    "\n",
    "display(ihop_map)"
   ]
  },
  {
   "cell_type": "code",
   "execution_count": 4,
   "outputs": [],
   "source": [
    "from geopy.distance import geodesic\n",
    "import multiprocess\n",
    "\n",
    "NUM_LOCATIONS = 30\n",
    "\n",
    "\n",
    "def closest_ihops(start_ihop, ihops):\n",
    "    return sorted(ihops, key=lambda other_ihop: geodesic(start_ihop['location'], other_ihop['location']))\n",
    "\n",
    "\n",
    "def ihop_radius(start_ihop):\n",
    "    sorted_ihops = closest_ihops(start_ihop, ihops)\n",
    "    return geodesic(start_ihop['location'], sorted_ihops[NUM_LOCATIONS]['location']).miles\n",
    "\n",
    "\n",
    "pool = multiprocess.Pool()\n",
    "radiuses = pool.map_async(ihop_radius, ihops).get()\n",
    "ihops_with_distances = list(zip(ihops, radiuses))\n",
    "ranked_ihops = sorted(ihops_with_distances, key=lambda x: x[1])"
   ],
   "metadata": {
    "collapsed": false,
    "pycharm": {
     "name": "#%%\n"
    }
   }
  }
 ],
 "metadata": {
  "kernelspec": {
   "display_name": "Python 3 (ipykernel)",
   "language": "python",
   "name": "python3"
  },
  "language_info": {
   "codemirror_mode": {
    "name": "ipython",
    "version": 3
   },
   "file_extension": ".py",
   "mimetype": "text/x-python",
   "name": "python",
   "nbconvert_exporter": "python",
   "pygments_lexer": "ipython3",
   "version": "3.9.6"
  }
 },
 "nbformat": 4,
 "nbformat_minor": 1
}