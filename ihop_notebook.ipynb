{
 "cells": [
  {
   "cell_type": "code",
   "execution_count": 1,
   "metadata": {
    "pycharm": {
     "name": "#%%\n"
    }
   },
   "outputs": [],
   "source": [
    "import json\n",
    "\n",
    "ihops = [json.loads(line) for line in open('ihop_list.jl')]"
   ]
  },
  {
   "cell_type": "code",
   "execution_count": 2,
   "metadata": {
    "pycharm": {
     "name": "#%%\n"
    }
   },
   "outputs": [
    {
     "data": {
      "application/vnd.jupyter.widget-view+json": {
       "model_id": "b83dc95eb6af4ffdaf5377eef5581c8d",
       "version_major": 2,
       "version_minor": 0
      },
      "text/plain": [
       "Map(center=[37.8, -96], controls=(ZoomControl(options=['position', 'zoom_in_text', 'zoom_in_title', 'zoom_out_…"
      ]
     },
     "metadata": {},
     "output_type": "display_data"
    }
   ],
   "source": [
    "from ipyleaflet import Map, Marker, MarkerCluster\n",
    "from IPython.core.display import display\n",
    "\n",
    "ihop_map = Map(center=(37.8, -96), zoom=4)\n",
    "\n",
    "marker_cluster = MarkerCluster(\n",
    "    markers=list(map(lambda ihop: Marker(\n",
    "        location=(float(ihop['latitude']),float(ihop['longitude'])),\n",
    "        title=ihop['address'],\n",
    "        draggable=False,\n",
    "    ), ihops))\n",
    ")\n",
    "ihop_map.add_layer(marker_cluster)\n",
    "\n",
    "display(ihop_map)"
   ]
  }
 ],
 "metadata": {
  "kernelspec": {
   "display_name": "Python 3 (ipykernel)",
   "language": "python",
   "name": "python3"
  },
  "language_info": {
   "codemirror_mode": {
    "name": "ipython",
    "version": 3
   },
   "file_extension": ".py",
   "mimetype": "text/x-python",
   "name": "python",
   "nbconvert_exporter": "python",
   "pygments_lexer": "ipython3",
   "version": "3.9.5"
  }
 },
 "nbformat": 4,
 "nbformat_minor": 1
}