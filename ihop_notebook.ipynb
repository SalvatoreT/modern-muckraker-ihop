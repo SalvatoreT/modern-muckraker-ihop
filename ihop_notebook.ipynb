{
 "cells": [
  {
   "cell_type": "markdown",
   "metadata": {},
   "source": [
    "# Load IHOP Data\n",
    "The data is stored with a location on each line as a JSON blob. Format the location to make calculations easier."
   ]
  },
  {
   "cell_type": "code",
   "execution_count": 1,
   "metadata": {},
   "outputs": [],
   "source": [
    "import json\n",
    "\n",
    "ALL_IHOPS = [json.loads(line) for line in open('ihop_list.jl')]\n",
    "for ihop in ALL_IHOPS:\n",
    "    ihop.update({'location': (float(ihop['latitude']), float(ihop['longitude']))})\n",
    "\n",
    "IHOP_DICT = dict((x['store_id'], x) for x in ALL_IHOPS)"
   ]
  },
  {
   "cell_type": "markdown",
   "metadata": {},
   "source": [
    "# Display IHOP Locations"
   ]
  },
  {
   "cell_type": "code",
   "execution_count": 2,
   "metadata": {},
   "outputs": [
    {
     "data": {
      "application/vnd.jupyter.widget-view+json": {
       "model_id": "1c34749a27ee49e7b7ea019a28e05c1d",
       "version_major": 2,
       "version_minor": 0
      },
      "text/plain": [
       "Map(center=[37.8, -96], controls=(ZoomControl(options=['position', 'zoom_in_text', 'zoom_in_title', 'zoom_out_…"
      ]
     },
     "metadata": {},
     "output_type": "display_data"
    }
   ],
   "source": [
    "from ipyleaflet import Map, CircleMarker\n",
    "from IPython.core.display import display\n",
    "\n",
    "ihop_map = Map(center=(37.8, -96), zoom=4)\n",
    "\n",
    "for ihop in ALL_IHOPS:\n",
    "    ihop_map.add_layer(CircleMarker(\n",
    "        location=ihop['location'],\n",
    "        title=ihop['address'],\n",
    "        draggable=False,\n",
    "        radius=1,\n",
    "    ))\n",
    "\n",
    "display(ihop_map)"
   ]
  },
  {
   "cell_type": "markdown",
   "metadata": {},
   "source": [
    "# Calculate IHOP Densities\n",
    "For any given IHOP, how far away is the Xth closest IHOP?"
   ]
  },
  {
   "cell_type": "code",
   "execution_count": 3,
   "metadata": {
    "pycharm": {
     "name": "#%%\n"
    }
   },
   "outputs": [],
   "source": [
    "from geopy.distance import geodesic\n",
    "import multiprocess\n",
    "\n",
    "NUM_LOCATIONS = 25\n",
    "\n",
    "\n",
    "def closest_ihops(start_ihop, ihops):\n",
    "    return sorted(ihops, key=lambda other_ihop: geodesic(start_ihop['location'], other_ihop['location']))\n",
    "\n",
    "\n",
    "def ihop_radius(start_ihop):\n",
    "    sorted_ihops = closest_ihops(start_ihop, ALL_IHOPS)\n",
    "    return geodesic(start_ihop['location'], sorted_ihops[NUM_LOCATIONS]['location']).miles\n",
    "\n",
    "\n",
    "def rank_ihops():\n",
    "    pool = multiprocess.Pool()\n",
    "    radiuses = pool.map_async(ihop_radius, ALL_IHOPS).get()\n",
    "    ihops_with_distances = list(zip(ALL_IHOPS, radiuses))\n",
    "    ranked_ihops_with_distances = sorted(ihops_with_distances, key=lambda x: x[1])\n",
    "    return list(map(lambda x: x[0], ranked_ihops_with_distances))\n",
    "\n",
    "\n",
    "RANKED_IHOPS = rank_ihops()"
   ]
  },
  {
   "cell_type": "markdown",
   "metadata": {},
   "source": [
    "# Visualize IHOP Densities"
   ]
  },
  {
   "cell_type": "code",
   "execution_count": 4,
   "metadata": {},
   "outputs": [],
   "source": [
    "from ipyleaflet import Map, CircleMarker\n",
    "from IPython.core.display import Markdown, display\n",
    "from geopy.distance import geodesic\n",
    "import math\n",
    "\n",
    "\n",
    "def highlight_ihop(featured_ihop):\n",
    "    neighbor_ihops = closest_ihops(featured_ihop, ALL_IHOPS)[1:NUM_LOCATIONS]\n",
    "\n",
    "    ihop_map = Map(center=featured_ihop['location'], zoom=10)\n",
    "\n",
    "    ihop_map.add_layer(CircleMarker(\n",
    "        location=featured_ihop['location'],\n",
    "        title=featured_ihop['address'],\n",
    "        draggable=False,\n",
    "        radius=1,\n",
    "        color='red',\n",
    "    ))\n",
    "\n",
    "    for ihop in neighbor_ihops:\n",
    "        ihop_map.add_layer(CircleMarker(\n",
    "            location=ihop['location'],\n",
    "            title=ihop['address'],\n",
    "            draggable=False,\n",
    "            radius=1,\n",
    "        ))\n",
    "\n",
    "    display(Markdown('# ' + featured_ihop['address']))\n",
    "    radius = geodesic(featured_ihop['location'], neighbor_ihops[-1]['location']).miles\n",
    "    display(Markdown('radius: %s miles' % (radius)))\n",
    "    display(ihop_map)"
   ]
  },
  {
   "cell_type": "code",
   "execution_count": 5,
   "metadata": {
    "scrolled": false
   },
   "outputs": [
    {
     "data": {
      "text/markdown": [
       "# 235 E 14th St # 237, New York, NY, 10003"
      ],
      "text/plain": [
       "<IPython.core.display.Markdown object>"
      ]
     },
     "metadata": {},
     "output_type": "display_data"
    },
    {
     "data": {
      "text/markdown": [
       "radius: 11.145798559236592 miles"
      ],
      "text/plain": [
       "<IPython.core.display.Markdown object>"
      ]
     },
     "metadata": {},
     "output_type": "display_data"
    },
    {
     "data": {
      "application/vnd.jupyter.widget-view+json": {
       "model_id": "91b650bc54474b9b94a093ffd077c030",
       "version_major": 2,
       "version_minor": 0
      },
      "text/plain": [
       "Map(center=[40.73278, -73.98557], controls=(ZoomControl(options=['position', 'zoom_in_text', 'zoom_in_title', …"
      ]
     },
     "metadata": {},
     "output_type": "display_data"
    },
    {
     "data": {
      "text/markdown": [
       "# 6300 Santa Fe Ave, Huntington Park, CA, 90255"
      ],
      "text/plain": [
       "<IPython.core.display.Markdown object>"
      ]
     },
     "metadata": {},
     "output_type": "display_data"
    },
    {
     "data": {
      "text/markdown": [
       "radius: 11.148020070668327 miles"
      ],
      "text/plain": [
       "<IPython.core.display.Markdown object>"
      ]
     },
     "metadata": {},
     "output_type": "display_data"
    },
    {
     "data": {
      "application/vnd.jupyter.widget-view+json": {
       "model_id": "8e71baf3e3994a709f67689300343ed2",
       "version_major": 2,
       "version_minor": 0
      },
      "text/plain": [
       "Map(center=[33.98313, -118.22984], controls=(ZoomControl(options=['position', 'zoom_in_text', 'zoom_in_title',…"
      ]
     },
     "metadata": {},
     "output_type": "display_data"
    },
    {
     "data": {
      "text/markdown": [
       "# 2310 Stemmons Trail, Dallas, TX, 75220"
      ],
      "text/plain": [
       "<IPython.core.display.Markdown object>"
      ]
     },
     "metadata": {},
     "output_type": "display_data"
    },
    {
     "data": {
      "text/markdown": [
       "radius: 14.90376873736448 miles"
      ],
      "text/plain": [
       "<IPython.core.display.Markdown object>"
      ]
     },
     "metadata": {},
     "output_type": "display_data"
    },
    {
     "data": {
      "application/vnd.jupyter.widget-view+json": {
       "model_id": "e882a3ca5b7143d6b85601ec4eb91792",
       "version_major": 2,
       "version_minor": 0
      },
      "text/plain": [
       "Map(center=[32.86034, -96.8897], controls=(ZoomControl(options=['position', 'zoom_in_text', 'zoom_in_title', '…"
      ]
     },
     "metadata": {},
     "output_type": "display_data"
    },
    {
     "data": {
      "text/markdown": [
       "# 1523 Alabama Ave SE, Washington, DC, 20032"
      ],
      "text/plain": [
       "<IPython.core.display.Markdown object>"
      ]
     },
     "metadata": {},
     "output_type": "display_data"
    },
    {
     "data": {
      "text/markdown": [
       "radius: 16.01241027533158 miles"
      ],
      "text/plain": [
       "<IPython.core.display.Markdown object>"
      ]
     },
     "metadata": {},
     "output_type": "display_data"
    },
    {
     "data": {
      "application/vnd.jupyter.widget-view+json": {
       "model_id": "e83575dae84841359dd18f865b1fe83d",
       "version_major": 2,
       "version_minor": 0
      },
      "text/plain": [
       "Map(center=[38.84607, -76.98265], controls=(ZoomControl(options=['position', 'zoom_in_text', 'zoom_in_title', …"
      ]
     },
     "metadata": {},
     "output_type": "display_data"
    },
    {
     "data": {
      "text/markdown": [
       "# 6508 Washington Ave, Houston, TX, 77007"
      ],
      "text/plain": [
       "<IPython.core.display.Markdown object>"
      ]
     },
     "metadata": {},
     "output_type": "display_data"
    },
    {
     "data": {
      "text/markdown": [
       "radius: 18.1462937283423 miles"
      ],
      "text/plain": [
       "<IPython.core.display.Markdown object>"
      ]
     },
     "metadata": {},
     "output_type": "display_data"
    },
    {
     "data": {
      "application/vnd.jupyter.widget-view+json": {
       "model_id": "3a7a6e9a63fa49589bb2f25a4acae15b",
       "version_major": 2,
       "version_minor": 0
      },
      "text/plain": [
       "Map(center=[29.77658, -95.4273], controls=(ZoomControl(options=['position', 'zoom_in_text', 'zoom_in_title', '…"
      ]
     },
     "metadata": {},
     "output_type": "display_data"
    }
   ],
   "source": [
    "def top_markets(num_markets):\n",
    "    RANKED_IDS = list(map(lambda x: x['store_id'], RANKED_IHOPS))\n",
    "    # Remove the DISQUALIFY_COUNT every time cycling through\n",
    "    DISQUALIFY_COUNT = 100\n",
    "    visited_ihop_ids = set([])\n",
    "    index = 0\n",
    "    for _ in range(num_markets):\n",
    "        if index >= len(RANKED_IHOPS):\n",
    "            return\n",
    "        else:\n",
    "            top_ihop_id = RANKED_IDS[index]\n",
    "            yield IHOP_DICT[top_ihop_id]\n",
    "\n",
    "            closest = map(lambda x: x['store_id'], closest_ihops(IHOP_DICT[top_ihop_id], ALL_IHOPS)[:DISQUALIFY_COUNT])\n",
    "            visited_ihop_ids = set(closest).union(visited_ihop_ids)\n",
    "\n",
    "            while index < len(RANKED_IHOPS) and RANKED_IDS[index] in visited_ihop_ids:\n",
    "                index = index + 1\n",
    "\n",
    "\n",
    "for ihop in top_markets(5):\n",
    "    highlight_ihop(ihop)\n"
   ]
  },
  {
   "cell_type": "code",
   "execution_count": 6,
   "metadata": {},
   "outputs": [
    {
     "data": {
      "text/markdown": [
       "# 3269 Kaopaka St, Honolulu, HI, 96819"
      ],
      "text/plain": [
       "<IPython.core.display.Markdown object>"
      ]
     },
     "metadata": {},
     "output_type": "display_data"
    },
    {
     "data": {
      "text/markdown": [
       "radius: 2413.849239875795 miles"
      ],
      "text/plain": [
       "<IPython.core.display.Markdown object>"
      ]
     },
     "metadata": {},
     "output_type": "display_data"
    },
    {
     "data": {
      "application/vnd.jupyter.widget-view+json": {
       "model_id": "4d4083b2c689475881ad4b46a0a4d92b",
       "version_major": 2,
       "version_minor": 0
      },
      "text/plain": [
       "Map(center=[21.335151, -157.914522], controls=(ZoomControl(options=['position', 'zoom_in_text', 'zoom_in_title…"
      ]
     },
     "metadata": {},
     "output_type": "display_data"
    }
   ],
   "source": [
    "highlight_ihop(RANKED_IHOPS[-1])"
   ]
  }
 ],
 "metadata": {
  "kernelspec": {
   "display_name": "Python 3 (ipykernel)",
   "language": "python",
   "name": "python3"
  },
  "language_info": {
   "codemirror_mode": {
    "name": "ipython",
    "version": 3
   },
   "file_extension": ".py",
   "mimetype": "text/x-python",
   "name": "python",
   "nbconvert_exporter": "python",
   "pygments_lexer": "ipython3",
   "version": "3.9.6"
  }
 },
 "nbformat": 4,
 "nbformat_minor": 1
}
