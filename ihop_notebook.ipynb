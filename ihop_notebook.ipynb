{
 "cells": [
  {
   "cell_type": "markdown",
   "metadata": {},
   "source": [
    "# Load IHOP Data\n",
    "The data is stored with a location on each line as a JSON blob. Format the location to make calculations easier."
   ]
  },
  {
   "cell_type": "code",
   "execution_count": 1,
   "metadata": {},
   "outputs": [],
   "source": [
    "import json\n",
    "\n",
    "ALL_IHOPS = [json.loads(line) for line in open('ihop_list.jl')]\n",
    "for ihop in ALL_IHOPS:\n",
    "    ihop.update({'location': (float(ihop['latitude']), float(ihop['longitude']))})\n",
    "\n",
    "IHOP_DICT = dict((x['store_id'], x) for x in ALL_IHOPS)"
   ]
  },
  {
   "cell_type": "markdown",
   "metadata": {},
   "source": [
    "# Display IHOP Locations"
   ]
  },
  {
   "cell_type": "code",
   "execution_count": 2,
   "metadata": {},
   "outputs": [
    {
     "data": {
      "application/vnd.jupyter.widget-view+json": {
       "model_id": "139c01fd0500480db20ba25ce5f7f4f1",
       "version_major": 2,
       "version_minor": 0
      },
      "text/plain": [
       "Map(center=[37.8, -96], controls=(ZoomControl(options=['position', 'zoom_in_text', 'zoom_in_title', 'zoom_out_…"
      ]
     },
     "metadata": {},
     "output_type": "display_data"
    }
   ],
   "source": [
    "from ipyleaflet import Map, CircleMarker\n",
    "from IPython.core.display import display\n",
    "\n",
    "ihop_map = Map(center=(37.8, -96), zoom=4)\n",
    "\n",
    "for ihop in ALL_IHOPS:\n",
    "    ihop_map.add_layer(CircleMarker(\n",
    "        location=ihop['location'],\n",
    "        title=ihop['address'],\n",
    "        draggable=False,\n",
    "        radius=1,\n",
    "    ))\n",
    "\n",
    "display(ihop_map)"
   ]
  },
  {
   "cell_type": "markdown",
   "metadata": {},
   "source": [
    "# Calculate IHOP Densities\n",
    "For any given IHOP, how far away is the Xth closest IHOP?"
   ]
  },
  {
   "cell_type": "code",
   "execution_count": 3,
   "metadata": {
    "pycharm": {
     "name": "#%%\n"
    }
   },
   "outputs": [],
   "source": [
    "from geopy.distance import geodesic\n",
    "import multiprocess\n",
    "\n",
    "NUM_LOCATIONS = 30\n",
    "\n",
    "\n",
    "def closest_ihops(start_ihop, ihops):\n",
    "    return sorted(ihops, key=lambda other_ihop: geodesic(start_ihop['location'], other_ihop['location']))\n",
    "\n",
    "\n",
    "def ihop_radius(start_ihop):\n",
    "    sorted_ihops = closest_ihops(start_ihop, ALL_IHOPS)\n",
    "    return geodesic(start_ihop['location'], sorted_ihops[NUM_LOCATIONS]['location']).miles\n",
    "\n",
    "\n",
    "def rank_ihops():\n",
    "    pool = multiprocess.Pool()\n",
    "    radiuses = pool.map_async(ihop_radius, ALL_IHOPS).get()\n",
    "    ihops_with_distances = list(zip(ALL_IHOPS, radiuses))\n",
    "    ranked_ihops_with_distances = sorted(ihops_with_distances, key=lambda x: x[1])\n",
    "    return list(map(lambda x: x[0], ranked_ihops_with_distances))\n",
    "\n",
    "\n",
    "RANKED_IHOPS = rank_ihops()"
   ]
  },
  {
   "cell_type": "markdown",
   "metadata": {},
   "source": [
    "# Visualize IHOP Densities"
   ]
  },
  {
   "cell_type": "code",
   "execution_count": 4,
   "metadata": {},
   "outputs": [],
   "source": [
    "from ipyleaflet import Map, CircleMarker\n",
    "from IPython.core.display import Markdown, display\n",
    "\n",
    "\n",
    "def highlight_ihop(featured_ihop):\n",
    "    neighbor_ihops = closest_ihops(featured_ihop, ALL_IHOPS)[1:NUM_LOCATIONS]\n",
    "\n",
    "    ihop_map = Map(center=featured_ihop['location'], zoom=10)\n",
    "\n",
    "    ihop_map.add_layer(CircleMarker(\n",
    "        location=featured_ihop['location'],\n",
    "        title=featured_ihop['address'],\n",
    "        draggable=False,\n",
    "        radius=1,\n",
    "        color='red',\n",
    "    ))\n",
    "\n",
    "    for ihop in neighbor_ihops:\n",
    "        ihop_map.add_layer(CircleMarker(\n",
    "            location=ihop['location'],\n",
    "            title=ihop['address'],\n",
    "            draggable=False,\n",
    "            radius=1,\n",
    "        ))\n",
    "\n",
    "    display(Markdown('# ' + featured_ihop['address']))\n",
    "    display(ihop_map)"
   ]
  },
  {
   "cell_type": "code",
   "execution_count": 5,
   "metadata": {
    "scrolled": false
   },
   "outputs": [
    {
     "data": {
      "text/markdown": [
       "# 3196A Kennedy Blvd, Union City, NJ, 07087"
      ],
      "text/plain": [
       "<IPython.core.display.Markdown object>"
      ]
     },
     "metadata": {},
     "output_type": "display_data"
    },
    {
     "data": {
      "application/vnd.jupyter.widget-view+json": {
       "model_id": "c1a303c2ed7248bfa5a1c23e0e165d39",
       "version_major": 2,
       "version_minor": 0
      },
      "text/plain": [
       "Map(center=[40.77469, -74.03322], controls=(ZoomControl(options=['position', 'zoom_in_text', 'zoom_in_title', …"
      ]
     },
     "metadata": {},
     "output_type": "display_data"
    },
    {
     "data": {
      "text/markdown": [
       "# 7131 Eastern Ave, Bell Gardens, CA, 90201"
      ],
      "text/plain": [
       "<IPython.core.display.Markdown object>"
      ]
     },
     "metadata": {},
     "output_type": "display_data"
    },
    {
     "data": {
      "application/vnd.jupyter.widget-view+json": {
       "model_id": "f104f28ec23f42b5a5772b835c6c53d1",
       "version_major": 2,
       "version_minor": 0
      },
      "text/plain": [
       "Map(center=[33.96824, -118.16522], controls=(ZoomControl(options=['position', 'zoom_in_text', 'zoom_in_title',…"
      ]
     },
     "metadata": {},
     "output_type": "display_data"
    },
    {
     "data": {
      "text/markdown": [
       "# 1626 W Mockingbird Lane, Dallas, TX, 75235"
      ],
      "text/plain": [
       "<IPython.core.display.Markdown object>"
      ]
     },
     "metadata": {},
     "output_type": "display_data"
    },
    {
     "data": {
      "application/vnd.jupyter.widget-view+json": {
       "model_id": "4407da00897c410c8458b304fefbbebb",
       "version_major": 2,
       "version_minor": 0
      },
      "text/plain": [
       "Map(center=[32.82185, -96.8573], controls=(ZoomControl(options=['position', 'zoom_in_text', 'zoom_in_title', '…"
      ]
     },
     "metadata": {},
     "output_type": "display_data"
    },
    {
     "data": {
      "text/markdown": [
       "# 6655 Arlington Blvd, Falls Church, VA, 22042"
      ],
      "text/plain": [
       "<IPython.core.display.Markdown object>"
      ]
     },
     "metadata": {},
     "output_type": "display_data"
    },
    {
     "data": {
      "application/vnd.jupyter.widget-view+json": {
       "model_id": "0ce61c9a25ce4eac9d02860feb7c3f6d",
       "version_major": 2,
       "version_minor": 0
      },
      "text/plain": [
       "Map(center=[38.86931, -77.1738], controls=(ZoomControl(options=['position', 'zoom_in_text', 'zoom_in_title', '…"
      ]
     },
     "metadata": {},
     "output_type": "display_data"
    },
    {
     "data": {
      "text/markdown": [
       "# 2741 Clairmont Rd, NE, Atlanta, GA, 30329"
      ],
      "text/plain": [
       "<IPython.core.display.Markdown object>"
      ]
     },
     "metadata": {},
     "output_type": "display_data"
    },
    {
     "data": {
      "application/vnd.jupyter.widget-view+json": {
       "model_id": "565830d78666406181f5495d93aecb88",
       "version_major": 2,
       "version_minor": 0
      },
      "text/plain": [
       "Map(center=[33.8368, -84.31107], controls=(ZoomControl(options=['position', 'zoom_in_text', 'zoom_in_title', '…"
      ]
     },
     "metadata": {},
     "output_type": "display_data"
    }
   ],
   "source": [
    "def top_markets(num_markets):\n",
    "    RANKED_IDS = list(map(lambda x: x['store_id'], RANKED_IHOPS))\n",
    "    # Remove the DISQUALIFY_COUNT every time cycling through\n",
    "    DISQUALIFY_COUNT = NUM_LOCATIONS * 2\n",
    "    visited_ihop_ids = set([])\n",
    "    index = 0\n",
    "    for _ in range(num_markets):\n",
    "        if index >= len(RANKED_IHOPS):\n",
    "            return\n",
    "        else:\n",
    "            top_ihop_id = RANKED_IDS[index]\n",
    "            yield IHOP_DICT[top_ihop_id]\n",
    "\n",
    "            closest = map(lambda x: x['store_id'], closest_ihops(IHOP_DICT[top_ihop_id], ALL_IHOPS)[:DISQUALIFY_COUNT])\n",
    "            visited_ihop_ids = set(closest).union(visited_ihop_ids)\n",
    "\n",
    "            while index < len(RANKED_IHOPS) and RANKED_IDS[index] in visited_ihop_ids:\n",
    "                index = index + 1\n",
    "\n",
    "\n",
    "for ihop in top_markets(5):\n",
    "    highlight_ihop(ihop)\n"
   ]
  }
 ],
 "metadata": {
  "kernelspec": {
   "display_name": "Python 3 (ipykernel)",
   "language": "python",
   "name": "python3"
  },
  "language_info": {
   "codemirror_mode": {
    "name": "ipython",
    "version": 3
   },
   "file_extension": ".py",
   "mimetype": "text/x-python",
   "name": "python",
   "nbconvert_exporter": "python",
   "pygments_lexer": "ipython3",
   "version": "3.9.6"
  }
 },
 "nbformat": 4,
 "nbformat_minor": 1
}
